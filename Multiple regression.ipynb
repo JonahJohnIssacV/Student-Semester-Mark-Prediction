{
 "cells": [
  {
   "cell_type": "code",
   "execution_count": 36,
   "id": "5f2b772c",
   "metadata": {},
   "outputs": [],
   "source": [
    "import pandas as pd\n",
    "import numpy as np"
   ]
  },
  {
   "cell_type": "code",
   "execution_count": 37,
   "id": "70fe8620",
   "metadata": {},
   "outputs": [
    {
     "name": "stdout",
     "output_type": "stream",
     "text": [
      "         Name  CAT1  CAT2  CAT3  Attendence  Semester Marks\n",
      "0   sathyadev    43    45    47           5              91\n",
      "1        anbu    23    26    21           2              46\n",
      "2    hemanika    48    49    50           5              98\n",
      "3      pandya    32    40    35           4              72\n",
      "4        rani    45    50    42           5              92\n",
      "5       raghu    43    41    42           5              85\n",
      "6       lekha    34    37    41           4              75\n",
      "7      victor    12    23    24           2              39\n",
      "8      mathew    23    24    28           3              51\n",
      "9     amudhan    43    46    47           4              90\n",
      "10   raghavan    50    49    49           5              99\n",
      "11   aaratana    49    48    47           5              96\n",
      "12  venkatesh    26    29    31           4              58\n",
      "13    kalyani    34    47    31           5              76\n",
      "14  ilamaaran    34    48    46           5              86\n",
      "15      thiru    41    42    42           5              84\n",
      "16      leela    47    45    48           5              94\n",
      "17     rajesh    32    34    33           3              66\n",
      "18     raajiv    45    44    48           5              92\n",
      "19      reena    48    49    46           5              96\n"
     ]
    }
   ],
   "source": [
    "dataset = pd.read_csv('Student_data.csv')\n",
    "print(dataset)"
   ]
  },
  {
   "cell_type": "code",
   "execution_count": 44,
   "id": "88895022",
   "metadata": {},
   "outputs": [
    {
     "name": "stdout",
     "output_type": "stream",
     "text": [
      "[91 46 98 72 92 85 75 39 51 90 99 96 58 76 86 84 94 66 92 96]\n",
      "[[43 45 47  5]\n",
      " [23 26 21  2]\n",
      " [48 49 50  5]\n",
      " [32 40 35  4]\n",
      " [45 50 42  5]\n",
      " [43 41 42  5]\n",
      " [34 37 41  4]\n",
      " [12 23 24  2]\n",
      " [23 24 28  3]\n",
      " [43 46 47  4]\n",
      " [50 49 49  5]\n",
      " [49 48 47  5]\n",
      " [26 29 31  4]\n",
      " [34 47 31  5]\n",
      " [34 48 46  5]\n",
      " [41 42 42  5]\n",
      " [47 45 48  5]\n",
      " [32 34 33  3]\n",
      " [45 44 48  5]\n",
      " [48 49 46  5]]\n"
     ]
    }
   ],
   "source": [
    "X = dataset.iloc[:, 1:-1].values\n",
    "y = dataset.iloc[:, -1].values\n",
    "print(y)\n",
    "print(X)"
   ]
  },
  {
   "cell_type": "code",
   "execution_count": 72,
   "id": "6a9cff2e",
   "metadata": {},
   "outputs": [],
   "source": [
    "from sklearn.model_selection import train_test_split\n",
    "X_train, X_test, y_train, y_test = train_test_split(X, y, test_size = 0.4, random_state = 0)"
   ]
  },
  {
   "cell_type": "code",
   "execution_count": 73,
   "id": "acb2f797",
   "metadata": {},
   "outputs": [
    {
     "data": {
      "text/plain": [
       "LinearRegression()"
      ]
     },
     "execution_count": 73,
     "metadata": {},
     "output_type": "execute_result"
    }
   ],
   "source": [
    "from sklearn.linear_model import LinearRegression\n",
    "regressor = LinearRegression()\n",
    "regressor.fit(X_train, y_train)"
   ]
  },
  {
   "cell_type": "code",
   "execution_count": 74,
   "id": "8b4294a1",
   "metadata": {},
   "outputs": [
    {
     "name": "stdout",
     "output_type": "stream",
     "text": [
      "[91.79 46.07 95.71 50.18 98.86 65.54 74.8  76.14]\n"
     ]
    }
   ],
   "source": [
    "y_pred = regressor.predict(X_test)\n",
    "print(y_pred)"
   ]
  },
  {
   "cell_type": "code",
   "execution_count": 75,
   "id": "20762844",
   "metadata": {},
   "outputs": [
    {
     "name": "stdout",
     "output_type": "stream",
     "text": [
      "[92 46 96 51 99 66 75 76]\n"
     ]
    }
   ],
   "source": [
    "print(y_test)"
   ]
  },
  {
   "cell_type": "code",
   "execution_count": 76,
   "id": "573a3d46",
   "metadata": {},
   "outputs": [
    {
     "name": "stdout",
     "output_type": "stream",
     "text": [
      "[[91.79 92.  ]\n",
      " [46.07 46.  ]\n",
      " [95.71 96.  ]\n",
      " [50.18 51.  ]\n",
      " [98.86 99.  ]\n",
      " [65.54 66.  ]\n",
      " [74.8  75.  ]\n",
      " [76.14 76.  ]]\n"
     ]
    }
   ],
   "source": [
    "y_pred = regressor.predict(X_test)\n",
    "np.set_printoptions(precision=2)\n",
    "print(np.concatenate((y_pred.reshape(len(y_pred),1), y_test.reshape(len(y_test),1)),1))"
   ]
  },
  {
   "cell_type": "code",
   "execution_count": null,
   "id": "ebe96639",
   "metadata": {},
   "outputs": [],
   "source": []
  }
 ],
 "metadata": {
  "kernelspec": {
   "display_name": "Python 3 (ipykernel)",
   "language": "python",
   "name": "python3"
  },
  "language_info": {
   "codemirror_mode": {
    "name": "ipython",
    "version": 3
   },
   "file_extension": ".py",
   "mimetype": "text/x-python",
   "name": "python",
   "nbconvert_exporter": "python",
   "pygments_lexer": "ipython3",
   "version": "3.10.2"
  }
 },
 "nbformat": 4,
 "nbformat_minor": 5
}
